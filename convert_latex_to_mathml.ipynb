{
  "cells": [
    {
      "cell_type": "markdown",
      "metadata": {
        "id": "view-in-github",
        "colab_type": "text"
      },
      "source": [
        "<a href=\"https://colab.research.google.com/github/MNoichl/tttms_public/blob/main/convert_latex_to_mathml.ipynb\" target=\"_parent\"><img src=\"https://colab.research.google.com/assets/colab-badge.svg\" alt=\"Open In Colab\"/></a>"
      ]
    },
    {
      "cell_type": "markdown",
      "source": [
        "# Mounting Google-Drive"
      ],
      "metadata": {
        "id": "lkl6jYExtEcp"
      }
    },
    {
      "cell_type": "code",
      "execution_count": null,
      "metadata": {
        "id": "QJGMa5oVa_t9"
      },
      "outputs": [],
      "source": [
        "from google.colab import drive\n",
        "drive.mount('/content/drive')"
      ]
    },
    {
      "cell_type": "markdown",
      "source": [
        "# Install packages & latexml\n"
      ],
      "metadata": {
        "id": "-pCp-yk0uMtE"
      }
    },
    {
      "cell_type": "code",
      "execution_count": null,
      "metadata": {
        "id": "79szObjtl7YJ"
      },
      "outputs": [],
      "source": [
        "!pip install compress-pickle\n",
        "!sudo apt-get install latexml\n",
        "!sudo apt-get install libtext-unidecode-perl \n",
        "!apt-get update\n",
        "!sudo apt-get install latexml\n",
        "!latexmlmath \\\\frac{-b\\\\pm\\\\sqrt{b^2-4ac}}{2a}"
      ]
    },
    {
      "cell_type": "markdown",
      "source": [
        "# Load packages"
      ],
      "metadata": {
        "id": "7OYoddaRuaaB"
      }
    },
    {
      "cell_type": "code",
      "execution_count": null,
      "metadata": {
        "id": "aZydqZvXPFX8"
      },
      "outputs": [],
      "source": [
        "# parse arxiv data into formulas -> images,\n",
        "# and fulltexts, and combine into one pickle-dataframe\n",
        "import tqdm\n",
        "import pandas as pd\n",
        "import re\n",
        "import os\n",
        "import sys\n",
        "\n",
        "\n",
        "import subprocess\n",
        "import platform\n",
        "import shutil\n",
        "\n",
        "import numpy as np\n",
        "from compress_pickle import dump, load\n",
        "import zipfile\n",
        "\n",
        "import seaborn as sns"
      ]
    },
    {
      "cell_type": "markdown",
      "source": [
        "# Download Tangent-Code & Data"
      ],
      "metadata": {
        "id": "KmQNOa3LufGo"
      }
    },
    {
      "cell_type": "code",
      "execution_count": null,
      "metadata": {
        "id": "wr2nanN6zMzb"
      },
      "outputs": [],
      "source": [
        "!gdown --fuzzy https://drive.google.com/file/d/1NSx7sQw8Kk1zQl5aaLWftj8T9SHvaeCC/view?usp=sharing -O \"TangentS.zip\"\n",
        "!unzip TangentS.zip"
      ]
    },
    {
      "cell_type": "code",
      "execution_count": null,
      "metadata": {
        "id": "7L2bBSm6FEsE"
      },
      "outputs": [],
      "source": [
        "!gdown --fuzzy https://drive.google.com/file/d/1-5ZrFDj_6tff7tCRd8nqlVf6Ls-l8-x1/view?usp=sharing -O \"formulas_to_process_v2.bz\"\n",
        "full_data = load(\"formulas_to_process_v2.bz\")"
      ]
    },
    {
      "cell_type": "code",
      "execution_count": null,
      "metadata": {
        "id": "SBnJdzqVPFYY"
      },
      "outputs": [],
      "source": [
        "np.sum([len(x) for x in full_data['filtered_formulas'] if x != 'no formulas']) #check n_formulas"
      ]
    },
    {
      "cell_type": "code",
      "execution_count": null,
      "metadata": {
        "id": "E4loirxD2FHX"
      },
      "outputs": [],
      "source": [
        "full_data['formula_tuples'] = \"no formulas\"\n",
        "full_data['actually_transformed_formulas'] = \"no formulas\""
      ]
    },
    {
      "cell_type": "markdown",
      "source": [
        "Due to computational requirements conversion had to be split over several machines to be efficient. Below one such block, that starts conversion at a specific part.\n"
      ],
      "metadata": {
        "id": "9YCcgrtzu0e0"
      }
    },
    {
      "cell_type": "code",
      "execution_count": null,
      "metadata": {
        "id": "tFA2lVx5PFYb",
        "scrolled": true
      },
      "outputs": [],
      "source": [
        "# %%capture\n",
        "from xml.dom import minidom\n",
        "from io import StringIO\n",
        "from xml.dom.minidom import parseString\n",
        "from TangentS.math_tan.math_extractor import MathExtractor\n",
        "from TangentS.math_tan.symbol_tree import SymbolTree\n",
        "\n",
        "starting_no = 0\n",
        "\n",
        "\n",
        "for index, row in tqdm.tqdm_notebook(full_data[starting_no:].iterrows()):\n",
        "  if isinstance(row['filtered_formulas'], list): \n",
        "    if len(row['filtered_formulas']) > 0:\n",
        "      # paper_id = row['identification_string'].replace('.','_')\n",
        "      \n",
        "      try:\n",
        "        with open('temporary_tex.tex', \"w\",encoding='utf-8') as text_file:\n",
        "            text_file.write('\\n \\n \\n'.join(row['filtered_formulas']))\n",
        "        cmd = '( cmdpid=$BASHPID; (sleep 3; kill $cmdpid) & exec '+ 'latexml' + ' --preload=amsmath' + ' --preload=amsfonts' + ' --destination=temporary_xml.xml' +' temporary_tex.tex '+ ' --preload=mws.sty.ltxml ' + '--quiet ' + '--quiet' +')'\n",
        "        cmd_output = !{cmd}\n",
        "        cmd = '( cmdpid=$BASHPID; (sleep 3; kill $cmdpid) & exec '+ 'latexmlpost' + ' --contentmathml' + ' --destination=temporary_xml_2.xml' + ' temporary_xml.xml ' + '--quiet ' + '--quiet'+')'\n",
        "        cmd_output = !{cmd}\n",
        "\n",
        "        xmldoc = minidom.parse('temporary_xml_2.xml')\n",
        "        \n",
        "        xml_formula_list = xmldoc.getElementsByTagName('Math')\n",
        "        # print(xml_formula_list)\n",
        "        this_articles_tuples = []\n",
        "        this_articles_formulas = []\n",
        "        for i,this_xml_formula in enumerate(xml_formula_list):\n",
        "          try:\n",
        "            used_tex = this_xml_formula.getAttribute(\"tex\")\n",
        "            this_xml_formula = this_xml_formula.firstChild\n",
        "            \n",
        "            this_xml_formula.setAttribute(\"xmlns\", \"http://www.w3.org/1998/Math/MathML\")\n",
        "            out = StringIO()\n",
        "            this_xml_formula.writexml(out)\n",
        "            \n",
        "            mathml = out.getvalue()\n",
        "            \n",
        "            mathml = mathml.replace('m:','')\n",
        "            mathml = mathml.replace('<semantics>','').replace('<\\semantics>','')\n",
        "            mathml = '<?xml version=\"1.0\" encoding=\"UTF-8\"?>\\n\\n' + mathml\n",
        "            cmml = MathExtractor.isolate_cmml(mathml)\n",
        "            current_tree = MathExtractor.convert_to_semanticsymbol(cmml)\n",
        "            temp = SymbolTree(current_tree)\n",
        "            aaa = temp.get_pairs(window=2, eob=True)\n",
        "            this_articles_tuples.append(aaa)\n",
        "            this_articles_formulas.append(used_tex)\n",
        "          except (KeyboardInterrupt, SystemExit):\n",
        "            print(\"program stopped manually\")\n",
        "            raise\n",
        "          except:\n",
        "            pass\n",
        "\n",
        "        full_data['formula_tuples'][index] = this_articles_tuples\n",
        "        full_data['actually_transformed_formulas'][index] = this_articles_formulas\n",
        "\n",
        "      except (KeyboardInterrupt, SystemExit):\n",
        "        print(\"program stopped manually\")\n",
        "        raise\n",
        "      except:\n",
        "        pass\n",
        "  if (index % 20 == 0):\n",
        "    print('parsed until: ', index)\n",
        "  if (index % 2000 == 0) and (index > starting_no+1):\n",
        "    dump(full_data, \"drive/MyDrive/combined_formula_parsing_results_v3/formula_tuple_list_\"+ str(starting_no) +\"_\"+ str(index)+ \".bz\")\n",
        "\n",
        "\n"
      ]
    }
  ],
  "metadata": {
    "colab": {
      "background_execution": "on",
      "collapsed_sections": [],
      "name": "convert_latex_to_mathml",
      "provenance": [],
      "include_colab_link": true
    },
    "kernelspec": {
      "display_name": "Python 3",
      "language": "python",
      "name": "python3"
    },
    "language_info": {
      "codemirror_mode": {
        "name": "ipython",
        "version": 3
      },
      "file_extension": ".py",
      "mimetype": "text/x-python",
      "name": "python",
      "nbconvert_exporter": "python",
      "pygments_lexer": "ipython3",
      "version": "3.7.6"
    },
    "varInspector": {
      "cols": {
        "lenName": 16,
        "lenType": 16,
        "lenVar": 40
      },
      "kernels_config": {
        "python": {
          "delete_cmd_postfix": "",
          "delete_cmd_prefix": "del ",
          "library": "var_list.py",
          "varRefreshCmd": "print(var_dic_list())"
        },
        "r": {
          "delete_cmd_postfix": ") ",
          "delete_cmd_prefix": "rm(",
          "library": "var_list.r",
          "varRefreshCmd": "cat(var_dic_list()) "
        }
      },
      "types_to_exclude": [
        "module",
        "function",
        "builtin_function_or_method",
        "instance",
        "_Feature"
      ],
      "window_display": false
    }
  },
  "nbformat": 4,
  "nbformat_minor": 0
}